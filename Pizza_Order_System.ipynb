{
  "cells": [
    {
      "cell_type": "code",
      "execution_count": 26,
      "metadata": {
        "id": "o8xuG8GG4Knu"
      },
      "outputs": [],
      "source": [
        "# Import required libraries\n",
        "import csv\n",
        "from datetime import datetime"
      ]
    },
    {
      "cell_type": "code",
      "execution_count": 27,
      "metadata": {
        "id": "qs6OmM-kDGs2"
      },
      "outputs": [],
      "source": [
        "# Write the menu text into a new file called \"Menu.txt\"\n",
        "menu = \"Please Choose a Pizza Base: \\n1: Classic\\n2: Margherita\\n3: TurkPizza\\n4: PlainPizza\\n* and sauce of your choice:\\n11: Olives\\n12: Mushrooms\\n13: GoatCheese\\n14: Meat\\n15: Onions\\n16: Corn\\n* Thank you!\"\n",
        "with open(\"Menu.txt\", \"w\") as f:\n",
        "    f.write(menu)"
      ]
    },
    {
      "cell_type": "code",
      "execution_count": 28,
      "metadata": {
        "id": "iCXZOk1_DNDs"
      },
      "outputs": [],
      "source": [
        "# Create a superclass called \"Pizza\"\n",
        "class Pizza:\n",
        "    # Define the constructor method\n",
        "    def __init__(self):\n",
        "        self._description = None\n",
        "        self._cost = None\n",
        "        \n",
        "    # Method to get the description of the pizza\n",
        "    def get_description(self):\n",
        "        return self._description\n",
        "    \n",
        "    # Method to get the cost of the pizza\n",
        "    def get_cost(self):\n",
        "        return self._cost"
      ]
    },
    {
      "cell_type": "code",
      "execution_count": 29,
      "metadata": {
        "id": "3sUAlnccL042"
      },
      "outputs": [],
      "source": [
        "# Define the subclasses of \"Pizza\": \"Classic\", \"Margherita\", \"Turk Pizza\" and \"Dominos Pizza\"\n",
        "class Classic(Pizza):\n",
        "    def __init__(self):\n",
        "        super().__init__()\n",
        "        self._description = \"Classic Pizza\"\n",
        "        self._cost = 159.90\n",
        "        \n",
        "\n",
        "class Margherita(Pizza):\n",
        "    def __init__(self):\n",
        "        super().__init__()\n",
        "        self._description = \"Margherita Pizza\"\n",
        "        self._cost = 145.00\n",
        "        \n",
        "\n",
        "class TurkPizza(Pizza):\n",
        "    def __init__(self):\n",
        "        super().__init__()\n",
        "        self._description = \"Turk Pizza\"\n",
        "        self._cost = 136.50\n",
        "        \n",
        "\n",
        "class DominosPizza(Pizza):\n",
        "    def __init__(self):\n",
        "        super().__init__()\n",
        "        self._description = \"Dominos Pizza\"\n",
        "        self._cost = 165.00"
      ]
    },
    {
      "cell_type": "code",
      "execution_count": 30,
      "metadata": {
        "id": "QKlKFX3WL3x8"
      },
      "outputs": [],
      "source": [
        "# Create a superclass called \"Decorator\"\n",
        "class Decorator(Pizza):\n",
        "    def __init__(self, component):\n",
        "        super().__init__()\n",
        "        self.component = component\n",
        "\n",
        "    def get_cost(self):\n",
        "        return self.component.get_cost() + Pizza.get_cost(self)\n",
        "\n",
        "    def get_description(self):\n",
        "        return self.component.get_description() + ' ' + Pizza.get_description(self)\n",
        "\n",
        "# Define the subclasses of \"Decorator\": \"Olives\", \"Mushrooms\", \"GoatCheese\", \"Meat\", \"Onions\" and \"corn\"\n",
        "class Olives(Decorator):\n",
        "    def __init__(self, pizza):\n",
        "        super().__init__(pizza)\n",
        "        self._description = \"Olives\"\n",
        "        self._cost = 7.50\n",
        "\n",
        " \n",
        "class Mushrooms(Decorator):\n",
        "    def __init__(self, pizza):\n",
        "        super().__init__(pizza)\n",
        "        self._description = \"Mushrooms\"\n",
        "        self._cost = 5.00\n",
        "\n",
        "   \n",
        "class GoatCheese(Decorator):\n",
        "    def __init__(self, pizza):\n",
        "        super().__init__(pizza)\n",
        "        self._description = \"Goat Cheese\"\n",
        "        self._cost = 9.00\n",
        "\n",
        "\n",
        "class Meat(Decorator):\n",
        "    def __init__(self, pizza):\n",
        "        super().__init__(pizza)\n",
        "        self._description = \"Meat\"\n",
        "        self._cost = 12.50\n",
        "\n",
        "    \n",
        "class Onions(Decorator):\n",
        "    def __init__(self, pizza):\n",
        "        super().__init__(pizza)\n",
        "        self._description = \"Onions\"\n",
        "        self._cost = 4.50\n",
        "\n",
        "    \n",
        "class Corn(Decorator):\n",
        "    def __init__(self, pizza):\n",
        "        super().__init__(pizza)\n",
        "        self.description = \"Corn\"\n",
        "        self.price = 4.50"
      ]
    },
    {
      "cell_type": "code",
      "source": [
        "def take_order():\n",
        "    order = []\n",
        "\n",
        "    # Ask the user for their base pizza choice\n",
        "    while True:\n",
        "        try:\n",
        "            pizza_choice = int(input('Enter your base pizza choice (1-4): '))\n",
        "            if pizza_choice < 1 or pizza_choice > 4:\n",
        "                raise ValueError\n",
        "            break\n",
        "        except ValueError:\n",
        "            print('Invalid input. Please enter a number between 1 and 4.')\n",
        "\n",
        "    # Create the corresponding Pizza object\n",
        "    if pizza_choice == 1:\n",
        "        pizza = Classic()\n",
        "    elif pizza_choice == 2:\n",
        "        pizza = Margherita()\n",
        "    elif pizza_choice == 3:\n",
        "        pizza = TurkPizza()\n",
        "    else:\n",
        "        pizza = DominosPizza()\n",
        "\n",
        "    # Ask the user for their sauce choices\n",
        "    while True:\n",
        "        try:\n",
        "            sauce_choice = input('Enter the sauce choices (separated by commas, or type \"none\"): ')\n",
        "            if sauce_choice.lower() == 'none':\n",
        "                break\n",
        "            sauces = [int(s) for s in sauce_choice.split(',')]\n",
        "            if any(s < 11 or s > 16 for s in sauces):\n",
        "                raise ValueError\n",
        "            break\n",
        "        except ValueError:\n",
        "            print('Invalid input. Please enter comma-separated numbers between 11 and 16, or \"none\".')\n",
        "\n",
        "    # Create the corresponding Decorator objects for each sauce choice\n",
        "    if sauce_choice.lower() == 'none':\n",
        "        pass\n",
        "    else:\n",
        "        for s in sauces:\n",
        "            if s == 11:\n",
        "                pizza = Olives(pizza)\n",
        "            elif s == 12:\n",
        "                pizza = Mushrooms(pizza)\n",
        "            elif s == 13:\n",
        "                pizza = GoatCheese(pizza)\n",
        "            elif s == 14:\n",
        "                pizza = Meat(pizza)\n",
        "            else:\n",
        "                pizza = Onions(pizza)\n",
        "                \n",
        "    order.append(pizza)\n",
        "    \n",
        "    return order\n"
      ],
      "metadata": {
        "id": "DHxnyjsY9Ish"
      },
      "execution_count": 31,
      "outputs": []
    },
    {
      "cell_type": "code",
      "source": [
        "def main():\n",
        "    orders = []\n",
        "\n",
        "    while True:\n",
        "        order = take_order()\n",
        "        orders.extend(order)\n",
        "\n",
        "        cont = input('Do you want to place another order? (y/n): ')\n",
        "        if cont.lower() != 'y':\n",
        "            break\n",
        "\n",
        "    # Print a summary of the orders\n",
        "    total_cost = sum([order.get_cost() for order in orders])\n",
        "    print(f'Total cost: ₺{total_cost:.2f}')\n",
        "    \n",
        "    # Get user information for payment\n",
        "    name = input(\"Enter your name: \")\n",
        "    id_number = input(\"Enter your ID number: \")\n",
        "    credit_card_number = input(\"Enter your credit card number: \")\n",
        "    credit_card_password = input(\"Enter your credit card password: \")\n",
        "\n",
        "    # Save the order information to the database\n",
        "    with open(\"Orders_Database.csv\", \"a\") as f:\n",
        "        for order in orders:\n",
        "            f.write(f\"{name},{id_number},{order.get_description()},{datetime.now()},{credit_card_password}\\n\")\n",
        "   \n",
        "    print('Thank you for your order!')\n",
        "    \n",
        "if __name__ == '__main__':\n",
        "    main()"
      ],
      "metadata": {
        "id": "1_1Sdjil9QSx"
      },
      "execution_count": null,
      "outputs": []
    }
  ],
  "metadata": {
    "colab": {
      "provenance": []
    },
    "kernelspec": {
      "display_name": "Python 3",
      "name": "python3"
    },
    "language_info": {
      "name": "python"
    }
  },
  "nbformat": 4,
  "nbformat_minor": 0
}